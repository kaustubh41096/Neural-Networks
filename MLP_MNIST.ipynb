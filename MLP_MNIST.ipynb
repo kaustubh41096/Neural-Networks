{
  "nbformat": 4,
  "nbformat_minor": 0,
  "metadata": {
    "colab": {
      "name": "MLP_MNIST.ipynb",
      "provenance": [],
      "collapsed_sections": [],
      "authorship_tag": "ABX9TyMfPwb2EnQgZdORjfr0RtQv",
      "include_colab_link": true
    },
    "kernelspec": {
      "name": "python3",
      "display_name": "Python 3"
    }
  },
  "cells": [
    {
      "cell_type": "markdown",
      "metadata": {
        "id": "view-in-github",
        "colab_type": "text"
      },
      "source": [
        "<a href=\"https://colab.research.google.com/github/kaustubh41096/Neural-Networks/blob/main/MLP_MNIST.ipynb\" target=\"_parent\"><img src=\"https://colab.research.google.com/assets/colab-badge.svg\" alt=\"Open In Colab\"/></a>"
      ]
    },
    {
      "cell_type": "code",
      "metadata": {
        "id": "AGEKwso6FqW1"
      },
      "source": [
        "import torch\n",
        "import torch.nn as nn\n",
        "import torchvision\n",
        "import torchvision.transforms as transforms"
      ],
      "execution_count": 8,
      "outputs": []
    },
    {
      "cell_type": "code",
      "metadata": {
        "id": "3-2yTpBgOpuq"
      },
      "source": [
        "# Device configuration\n",
        "device = torch.device('cuda' if torch.cuda.is_available() else 'cpu')\n",
        "\n",
        "# Hyper-parameters \n",
        "input_size = 784      # 28x28 is the size of image\n",
        "hidden_size1 = 350    # No of neurons in hidden layer 1\n",
        "hidden_size2 = 200    # No of neurons in hidden layer 2\n",
        "num_classes = 10      # No of target labels ( 0 - 9 )  \n",
        "num_epochs = 10       # No of times network gets trained\n",
        "batch_size = 100      # No of samples in batch size\n",
        "learning_rate = 0.001 # Learning rate defines the step the optmizer takes down the gradient slope\n"
      ],
      "execution_count": 9,
      "outputs": []
    },
    {
      "cell_type": "code",
      "metadata": {
        "id": "An4G1KJxOuzt"
      },
      "source": [
        "# MNIST dataset \n",
        "# Download training data from torchvision library and transform it to tensor\n",
        "train_dataset = torchvision.datasets.MNIST(root='./data', \n",
        "                                           train=True, \n",
        "                                           transform=transforms.ToTensor(),  \n",
        "                                           download=True)\n",
        "\n",
        "# Download testing data from torchvision library and transform it to tensor\n",
        "test_dataset = torchvision.datasets.MNIST(root='./data', \n",
        "                                          train=False, \n",
        "                                          transform=transforms.ToTensor())\n",
        "\n",
        "# Data loader\n",
        "# Load training and testing data into data loader in batches and shuffle them for greater accuracy, shuffle doesnt matter for testing\n",
        "train_loader = torch.utils.data.DataLoader(dataset=train_dataset, \n",
        "                                           batch_size=batch_size, \n",
        "                                           shuffle=True)\n",
        "\n",
        "test_loader = torch.utils.data.DataLoader(dataset=test_dataset, \n",
        "                                          batch_size=batch_size, \n",
        "                                          shuffle=False)"
      ],
      "execution_count": 10,
      "outputs": []
    },
    {
      "cell_type": "code",
      "metadata": {
        "id": "X-GxP9pZO2zy"
      },
      "source": [
        "# Fully connected neural network with two hidden layers\n",
        "class NeuralNet(nn.Module):\n",
        "    # Define structure of neural network and initialize the class with the in built nn class in PyTorch\n",
        "    def __init__(self, input_size, hidden_size1, hidden_size2, num_classes):\n",
        "        super(NeuralNet, self).__init__()\n",
        "        self.input_size = input_size\n",
        "        self.l1 = nn.Linear(input_size, hidden_size1) \n",
        "        self.relu = nn.ReLU()\n",
        "        self.l2 = nn.Linear(hidden_size1, hidden_size2)\n",
        "        self.l3 = nn.Linear(hidden_size2, num_classes)  \n",
        "    \n",
        "    # Define feed forward method for neural network\n",
        "    def forward(self, x):\n",
        "        out = self.l1(x)\n",
        "        out = self.relu(out)\n",
        "        out = self.l2(out)\n",
        "        out = self.relu(out)\n",
        "        out = self.l3(out)\n",
        "        # no activation and no softmax at the end\n",
        "        # softmax is included in the CrossEntropyLoss function\n",
        "        return out\n"
      ],
      "execution_count": 11,
      "outputs": []
    },
    {
      "cell_type": "code",
      "metadata": {
        "id": "An1Hwb6jO8pd"
      },
      "source": [
        "model = NeuralNet(input_size, hidden_size1, hidden_size2, num_classes).to(device)\n",
        "\n",
        "# Loss and optimizer\n",
        "criterion = nn.CrossEntropyLoss()\n",
        "optimizer = torch.optim.Adam(model.parameters(), lr=learning_rate)  \n"
      ],
      "execution_count": 12,
      "outputs": []
    },
    {
      "cell_type": "code",
      "metadata": {
        "id": "LOBc2JrsPAH2"
      },
      "source": [
        "# Train the model\n",
        "n_total_steps = len(train_loader)\n",
        "for epoch in range(num_epochs): # This loop repeats the process of training the network with all batches till it reaches its optimal configuration\n",
        "    for i, (images, labels) in enumerate(train_loader): # This loop repeats the process of feed forward and backpropagation for each batch of inputs \n",
        "        # origin shape: [100, 1, 28, 28]\n",
        "        # resized: [100, 784]\n",
        "        # Images and labels needs to be flattened to 1D Array for MLP\n",
        "        images = images.reshape(-1, 28*28).to(device) \n",
        "        labels = labels.to(device)\n",
        "        \n",
        "        # Forward pass\n",
        "        outputs = model(images)\n",
        "        loss = criterion(outputs, labels)\n",
        "        \n",
        "        # Backward and optimize\n",
        "        optimizer.zero_grad() # Necessary so that each batch has a clean slate to optimize from\n",
        "        loss.backward() # Backpropogate\n",
        "        optimizer.step() # Takes a step to local minima of the gradiant in the size of the learning rate \n",
        "        \n",
        "        if (i+1) % 100 == 0:\n",
        "            print (f'Epoch [{epoch+1}/{num_epochs}], Step [{i+1}/{n_total_steps}], Loss: {loss.item():.4f}')\n"
      ],
      "execution_count": null,
      "outputs": []
    },
    {
      "cell_type": "code",
      "metadata": {
        "id": "Mpdv7VeIPBYz",
        "outputId": "add1552b-5783-4e75-c9d2-0aaa391afa53",
        "colab": {
          "base_uri": "https://localhost:8080/",
          "height": 34
        }
      },
      "source": [
        "# Test the model\n",
        "# In test phase, we don't need to compute gradients (for memory efficiency)\n",
        "with torch.no_grad():\n",
        "    n_correct = 0\n",
        "    n_samples = 0\n",
        "    for images, labels in test_loader: # Test loader will load one batch of images at a time\n",
        "        # Images and labels needs to be flattened to 1D Array for MLP\n",
        "        images = images.reshape(-1, 28*28).to(device) \n",
        "        labels = labels.to(device)\n",
        "        outputs = model(images)   # Output classes for each batch\n",
        "        # max returns (value ,index)\n",
        "        _, predicted = torch.max(outputs.data, 1)\n",
        "        n_samples += labels.size(0)                       # Count the no of samples in each batch\n",
        "        n_correct += (predicted == labels).sum().item()   # Count no of correct predctions for each batch size and add them to the previous count\n",
        "\n",
        "    acc = 100.0 * n_correct / n_samples                   # Calculate after all the batches have been executed\n",
        "    print(f'Accuracy of the network on the 10000 test images: {acc} %')   # Print accuracy"
      ],
      "execution_count": 14,
      "outputs": [
        {
          "output_type": "stream",
          "text": [
            "Accuracy of the network on the 10000 test images: 98.08 %\n"
          ],
          "name": "stdout"
        }
      ]
    }
  ]
}