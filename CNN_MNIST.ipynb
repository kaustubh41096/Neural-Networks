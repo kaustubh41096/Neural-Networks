{
  "nbformat": 4,
  "nbformat_minor": 0,
  "metadata": {
    "colab": {
      "name": "CNN_MNIST.ipynb",
      "provenance": [],
      "collapsed_sections": [],
      "authorship_tag": "ABX9TyNpQuxr9RdBjWBMSK4oc/0y",
      "include_colab_link": true
    },
    "kernelspec": {
      "name": "python3",
      "display_name": "Python 3"
    }
  },
  "cells": [
    {
      "cell_type": "markdown",
      "metadata": {
        "id": "view-in-github",
        "colab_type": "text"
      },
      "source": [
        "<a href=\"https://colab.research.google.com/github/kaustubh41096/Neural-Networks/blob/main/CNN_MNIST.ipynb\" target=\"_parent\"><img src=\"https://colab.research.google.com/assets/colab-badge.svg\" alt=\"Open In Colab\"/></a>"
      ]
    },
    {
      "cell_type": "code",
      "metadata": {
        "id": "dEDEUxhxW-x1"
      },
      "source": [
        "import torch\n",
        "import torch.nn as nn\n",
        "import torchvision\n",
        "import torchvision.transforms as transforms"
      ],
      "execution_count": 60,
      "outputs": []
    },
    {
      "cell_type": "code",
      "metadata": {
        "id": "aHR0xJXLXNfy"
      },
      "source": [
        "# Device configuration\n",
        "device = torch.device('cuda' if torch.cuda.is_available() else 'cpu')\n",
        "\n",
        "# Hyper-parameters \n",
        "conv1_dimension = 3   # Image output dimensions from convlutional layer 1\n",
        "conv2_dimension = 6   # Image output dimensions from convolutional layer 2\n",
        "pool_kernel_size = 2  # Pool matrix size is 2x2\n",
        "stride_pool = 2       # Stride for pool is 2\n",
        "stride_kernel = 1     # Stride for kernel is 1\n",
        "kernel_size = 5       # Kernel matrix is 5x5\n",
        "hidden_size1 = 250    # No of neurons in hidden layer 1\n",
        "hidden_size2 = 100    # No of neurons in hidden layer 2\n",
        "num_classes = 10      # No of target labels ( 0 - 9 )  \n",
        "num_epochs = 3        # No of times network gets trained\n",
        "batch_size = 100      # No of samples in batch size\n",
        "learning_rate = 0.001 # Learning rate defines the step the optmizer takes down the gradient slope"
      ],
      "execution_count": 61,
      "outputs": []
    },
    {
      "cell_type": "code",
      "metadata": {
        "id": "vzk-F2UkX2W3"
      },
      "source": [
        "# MNIST dataset \n",
        "# Download training data from torchvision library and transform it to tensor\n",
        "train_dataset = torchvision.datasets.MNIST(root='./data', \n",
        "                                           train=True, \n",
        "                                           transform=transforms.ToTensor(),  \n",
        "                                           download=True)\n",
        "\n",
        "# Download testing data from torchvision library and transform it to tensor\n",
        "test_dataset = torchvision.datasets.MNIST(root='./data', \n",
        "                                          train=False, \n",
        "                                          transform=transforms.ToTensor())\n",
        "\n",
        "# Data loader\n",
        "# Load training and testing data into data loader in batches and shuffle them for greater accuracy, shuffle doesnt matter for testing\n",
        "train_loader = torch.utils.data.DataLoader(dataset=train_dataset, \n",
        "                                           batch_size=batch_size, \n",
        "                                           shuffle=True)\n",
        "\n",
        "test_loader = torch.utils.data.DataLoader(dataset=test_dataset, \n",
        "                                          batch_size=batch_size, \n",
        "                                          shuffle=False)"
      ],
      "execution_count": 62,
      "outputs": []
    },
    {
      "cell_type": "code",
      "metadata": {
        "id": "kYldwFcrgzn4"
      },
      "source": [
        "for i, (images, labels) in enumerate(train_loader):\n",
        "  image_shape = images.shape[2]\n",
        "  break\n",
        "\n",
        "layer1_size = ((image_shape - kernel_size)/stride_kernel) + 1\n",
        "layer2_size = ((layer1_size - pool_kernel_size)/stride_pool) + 1\n",
        "layer3_size = ((layer2_size - kernel_size)/stride_kernel) + 1\n",
        "layer4_size = ((layer3_size - pool_kernel_size)/stride_pool) + 1\n",
        "\n",
        "layer4_size = int(layer4_size)"
      ],
      "execution_count": 63,
      "outputs": []
    },
    {
      "cell_type": "code",
      "metadata": {
        "id": "2z_HCHLyc-II"
      },
      "source": [
        "# Fully connected neural network with two hidden layers\n",
        "class NeuralNet(nn.Module):\n",
        "    # Define structure of neural network and initialize the class with the in built nn class in PyTorch\n",
        "    def __init__(self):\n",
        "        super(NeuralNet, self).__init__()\n",
        "        self.conv1 = nn.Conv2d(1, conv1_dimension, kernel_size)\n",
        "        self.pool = nn.MaxPool2d(pool_kernel_size, stride_pool)\n",
        "        self.conv2 = nn.Conv2d(conv1_dimension, conv2_dimension, kernel_size)\n",
        "        self.l1 = nn.Linear(conv2_dimension*layer4_size*layer4_size, hidden_size1)                     \n",
        "        self.relu = nn.ReLU()\n",
        "        self.l2 = nn.Linear(hidden_size1, hidden_size2)\n",
        "        self.l3 = nn.Linear(hidden_size2, num_classes)\n",
        "    \n",
        "    # Define feed forward method for neural network\n",
        "    def forward(self, x):\n",
        "      x = self.conv1(x)\n",
        "      x = self.relu(x)\n",
        "      x = self.pool(x)\n",
        "      x = self.conv2(x)\n",
        "      x = self.relu(x)\n",
        "      x = self.pool(x)\n",
        "      x = x.view(-1, conv2_dimension*layer4_size*layer4_size) # Image needs to be flattened for linear layers of neural network\n",
        "      x = self.l1(x)\n",
        "      x = self.relu(x)\n",
        "      x = self.l2(x)\n",
        "      x = self.relu(x)\n",
        "      x = self.l3(x)\n",
        "      # no activation and no softmax at the end\n",
        "      # softmax is included in the CrossEntropyLoss function\n",
        "      return x"
      ],
      "execution_count": 64,
      "outputs": []
    },
    {
      "cell_type": "code",
      "metadata": {
        "id": "G01dWhptoPty"
      },
      "source": [
        "model = NeuralNet().to(device)\n",
        "\n",
        "# Loss and optimizer\n",
        "criterion = nn.CrossEntropyLoss()\n",
        "optimizer = torch.optim.Adam(model.parameters(), lr=learning_rate)  "
      ],
      "execution_count": 65,
      "outputs": []
    },
    {
      "cell_type": "code",
      "metadata": {
        "id": "5g2s00_Gotmq",
        "outputId": "48f2a6c3-f9e2-47f8-862f-5f015caed658",
        "colab": {
          "base_uri": "https://localhost:8080/",
          "height": 323
        }
      },
      "source": [
        "# Train the model\n",
        "n_total_steps = len(train_loader)\n",
        "for epoch in range(num_epochs): # This loop repeats the process of training the network with all batches till it reaches its optimal configuration\n",
        "    for i, (images, labels) in enumerate(train_loader): # This loop repeats the process of feed forward and backpropagation for each batch of inputs \n",
        "        images = images.to(device) \n",
        "        labels = labels.to(device)\n",
        "        \n",
        "        # Forward pass\n",
        "        outputs = model(images)\n",
        "        loss = criterion(outputs, labels)\n",
        "        \n",
        "        # Backward and optimize\n",
        "        optimizer.zero_grad() # Necessary so that each batch has a clean slate to optimize from\n",
        "        loss.backward() # Backpropogate\n",
        "        optimizer.step() # Takes a step to local minima of the gradiant in the size of the learning rate \n",
        "        \n",
        "        if (i+1) % 100 == 0:\n",
        "            print (f'Epoch [{epoch+1}/{num_epochs}], Step [{i+1}/{n_total_steps}], Loss: {loss.item():.4f}')"
      ],
      "execution_count": 66,
      "outputs": [
        {
          "output_type": "stream",
          "text": [
            "Epoch [1/3], Step [100/600], Loss: 0.7080\n",
            "Epoch [1/3], Step [200/600], Loss: 0.3039\n",
            "Epoch [1/3], Step [300/600], Loss: 0.2494\n",
            "Epoch [1/3], Step [400/600], Loss: 0.1170\n",
            "Epoch [1/3], Step [500/600], Loss: 0.4086\n",
            "Epoch [1/3], Step [600/600], Loss: 0.1356\n",
            "Epoch [2/3], Step [100/600], Loss: 0.1561\n",
            "Epoch [2/3], Step [200/600], Loss: 0.0671\n",
            "Epoch [2/3], Step [300/600], Loss: 0.0672\n",
            "Epoch [2/3], Step [400/600], Loss: 0.1377\n",
            "Epoch [2/3], Step [500/600], Loss: 0.0679\n",
            "Epoch [2/3], Step [600/600], Loss: 0.1196\n",
            "Epoch [3/3], Step [100/600], Loss: 0.0283\n",
            "Epoch [3/3], Step [200/600], Loss: 0.1368\n",
            "Epoch [3/3], Step [300/600], Loss: 0.0932\n",
            "Epoch [3/3], Step [400/600], Loss: 0.1123\n",
            "Epoch [3/3], Step [500/600], Loss: 0.0444\n",
            "Epoch [3/3], Step [600/600], Loss: 0.1215\n"
          ],
          "name": "stdout"
        }
      ]
    },
    {
      "cell_type": "code",
      "metadata": {
        "id": "dsP4eYb8o6zP",
        "outputId": "b7ae326e-80f3-4ecc-dd11-ee909d5f79a7",
        "colab": {
          "base_uri": "https://localhost:8080/",
          "height": 34
        }
      },
      "source": [
        "# Test the model\n",
        "# In test phase, we don't need to compute gradients (for memory efficiency)\n",
        "with torch.no_grad():\n",
        "    n_correct = 0\n",
        "    n_samples = 0\n",
        "    for images, labels in test_loader: # Test loader will load one batch of images at a time\n",
        "        images = images.to(device) \n",
        "        labels = labels.to(device)\n",
        "        outputs = model(images)   # Output classes for each batch\n",
        "        # max returns (value ,index)\n",
        "        _, predicted = torch.max(outputs.data, 1)\n",
        "        n_samples += labels.size(0)                       # Count the no of samples in each batch\n",
        "        n_correct += (predicted == labels).sum().item()   # Count no of correct predctions for each batch size and add them to the previous count\n",
        "\n",
        "    acc = 100.0 * n_correct / n_samples                   # Calculate after all the batches have been executed\n",
        "    print(f'Accuracy of the network on the 10000 test images: {acc} %')   # Print accuracy"
      ],
      "execution_count": 67,
      "outputs": [
        {
          "output_type": "stream",
          "text": [
            "Accuracy of the network on the 10000 test images: 97.72 %\n"
          ],
          "name": "stdout"
        }
      ]
    }
  ]
}